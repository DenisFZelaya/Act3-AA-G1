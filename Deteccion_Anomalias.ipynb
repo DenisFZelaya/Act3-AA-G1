{
 "cells": [
  {
   "cell_type": "markdown",
   "metadata": {},
   "source": [
    "# Detección anomalías\n",
    " \n",
    "Nivel 4 (destacado) \n",
    "- Aplica algoritmos para detectar anomalías, tanto a nivel de atributo como de instancia, \n",
    "- con muy buenos resultados.\n",
    "3 puntos"
   ]
  }
 ],
 "metadata": {
  "language_info": {
   "name": "python"
  },
  "orig_nbformat": 4
 },
 "nbformat": 4,
 "nbformat_minor": 2
}

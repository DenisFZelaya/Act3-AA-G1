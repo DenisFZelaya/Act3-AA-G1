{
 "cells": [
  {
   "cell_type": "markdown",
   "metadata": {},
   "source": [
    "# Detección anomalías\n",
    " \n",
    "Nivel 4 (destacado) \n",
    "- Aplica algoritmos para detectar anomalías, tanto a nivel de atributo como de instancia, \n",
    "- con muy buenos resultados.\n",
    "3 puntos"
   ]
  },
  {
   "cell_type": "code",
   "execution_count": 1,
   "metadata": {},
   "outputs": [],
   "source": [
    "from sklearn.ensemble import IsolationForest\n",
    "from sklearn.neighbors import LocalOutlierFactor\n",
    "from sklearn.svm import OneClassSVM\n",
    "from sklearn.covariance import EllipticEnvelope\n",
    "from sklearn.cluster import DBSCAN\n",
    "import pandas as pd"
   ]
  },
  {
   "cell_type": "code",
   "execution_count": 2,
   "metadata": {},
   "outputs": [],
   "source": [
    "datos = pd.read_csv(\"CTG_PREPROCESS.csv\")"
   ]
  },
  {
   "cell_type": "code",
   "execution_count": 3,
   "metadata": {},
   "outputs": [
    {
     "name": "stderr",
     "output_type": "stream",
     "text": [
      "/Users/davidcanaca/anaconda3/lib/python3.11/site-packages/sklearn/covariance/_robust_covariance.py:747: UserWarning: The covariance matrix associated to your dataset is not full rank\n",
      "  warnings.warn(\n"
     ]
    }
   ],
   "source": [
    "# Eliminar columnas no numéricas o convertirlas si es necesario\n",
    "datos_numericos = datos.select_dtypes(include=['float64', 'int64'])\n",
    "\n",
    "# Detección de anomalías a nivel de atributo\n",
    "# Isolation Forest\n",
    "modelo_IF = IsolationForest(contamination=0.1)  # Ajustar el nivel de contaminación según sea necesario\n",
    "anomalias_IF = modelo_IF.fit_predict(datos_numericos)\n",
    "\n",
    "# Local Outlier Factor (LOF)\n",
    "modelo_LOF = LocalOutlierFactor(n_neighbors=20)  # Ajustar el número de vecinos según sea necesario\n",
    "anomalias_LOF = modelo_LOF.fit_predict(datos_numericos)\n",
    "\n",
    "# Detección de anomalías a nivel de instancia\n",
    "# One-Class SVM\n",
    "modelo_OCSVM = OneClassSVM(nu=0.1)  # Ajustar el parámetro nu según sea necesario\n",
    "anomalias_OCSVM = modelo_OCSVM.fit_predict(datos_numericos)\n",
    "\n",
    "# Minimum Covariance Determinant (MCD)\n",
    "modelo_MCD = EllipticEnvelope(contamination=0.1)  # Ajustar el nivel de contaminación según sea necesario\n",
    "anomalias_MCD = modelo_MCD.fit_predict(datos_numericos)\n",
    "\n",
    "# DBSCAN\n",
    "modelo_DBSCAN = DBSCAN(eps=0.5, min_samples=5)  # Ajustar los parámetros eps y min_samples según sea necesario\n",
    "anomalias_DBSCAN = modelo_DBSCAN.fit_predict(datos_numericos)"
   ]
  },
  {
   "cell_type": "code",
   "execution_count": 4,
   "metadata": {},
   "outputs": [
    {
     "name": "stdout",
     "output_type": "stream",
     "text": [
      "Isolation Forest:\n",
      "[1 1 1 ... 1 1 1]\n",
      "\n",
      "Local Outlier Factor (LOF):\n",
      "[-1  1  1 ...  1 -1  1]\n",
      "\n",
      "One-Class SVM:\n",
      "[-1  1  1 ...  1 -1  1]\n",
      "\n",
      "Minimum Covariance Determinant (MCD):\n",
      "[-1  1  1 ...  1  1  1]\n",
      "\n",
      "DBSCAN:\n",
      "[-1 -1 -1 ... -1 -1 -1]\n"
     ]
    }
   ],
   "source": [
    "\n",
    "# Imprimir resultados de Isolation Forest\n",
    "print(\"Isolation Forest:\")\n",
    "print(anomalias_IF)\n",
    "\n",
    "# Imprimir resultados de Local Outlier Factor (LOF)\n",
    "print(\"\\nLocal Outlier Factor (LOF):\")\n",
    "print(anomalias_LOF)\n",
    "\n",
    "# Imprimir resultados de One-Class SVM\n",
    "print(\"\\nOne-Class SVM:\")\n",
    "print(anomalias_OCSVM)\n",
    "\n",
    "# Imprimir resultados de Minimum Covariance Determinant (MCD)\n",
    "print(\"\\nMinimum Covariance Determinant (MCD):\")\n",
    "print(anomalias_MCD)\n",
    "\n",
    "# Imprimir resultados de DBSCAN\n",
    "print(\"\\nDBSCAN:\")\n",
    "print(anomalias_DBSCAN)\n"
   ]
  }
 ],
 "metadata": {
  "kernelspec": {
   "display_name": "base",
   "language": "python",
   "name": "python3"
  },
  "language_info": {
   "codemirror_mode": {
    "name": "ipython",
    "version": 3
   },
   "file_extension": ".py",
   "mimetype": "text/x-python",
   "name": "python",
   "nbconvert_exporter": "python",
   "pygments_lexer": "ipython3",
   "version": "3.11.4"
  },
  "orig_nbformat": 4
 },
 "nbformat": 4,
 "nbformat_minor": 2
}

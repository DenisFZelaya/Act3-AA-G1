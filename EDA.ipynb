{
 "cells": [
  {
   "cell_type": "markdown",
   "metadata": {},
   "source": [
    "\n",
    "Nivel 4 (destacado) \n",
    "\n",
    "### Evaluación:\n",
    "\n",
    "Nivel 1 (reprobado) \n",
    "- El análisis descriptivo de los datos, \n",
    "- la verificación de datos faltantes y \n",
    "- la correlación se realizan de manera muy superficial.\n",
    "0 puntos\n",
    "\n",
    "Nivel 2 (suficiente) \n",
    "- El análisis descriptivo de los datos y \n",
    "- la correlación se realizan a nivel de código, \n",
    "- mostrando datos estadísticos de los datos y la matriz de correlación, \n",
    "- pero no se profundiza en su análisis y en comentar los resultados.\n",
    "1 puntos\n",
    "\n",
    "Nivel 3 (adecuado) \n",
    "- A pesar de que se realiza un análisis descriptivo y \n",
    "- exploratorio de los datos, \n",
    "- se identifican valores faltantes y \n",
    "- se analizan ciertas correlaciones. \n",
    "- No existen acciones a seguir de acuerdo con los resultados.\n",
    "2 puntos\n",
    "\n",
    "\n",
    "Nivel 4 (destacado) \n",
    "- Realizan una descripción de los datos, \n",
    "- cumple con los requisitos de análisis de valores faltantes, \n",
    "- cumple con las exigencias de las estadísticas pedidas. \n",
    "- Se analizan las correlaciones entre variables.\n",
    "3 puntos"
   ]
  },
  {
   "cell_type": "markdown",
   "metadata": {},
   "source": [
    "### Análisis Exploratorio de Datos (EDA)\n",
    "\n",
    "El Análisis Exploratorio de Datos (EDA) es una fase fundamental en el proceso de análisis de datos que busca comprender la naturaleza y las características de un conjunto de datos antes de aplicar técnicas de modelado o inferencia estadística más avanzadas. \n",
    "\n",
    "Durante el EDA, se exploran y visualizan los datos para identificar patrones, tendencias, anomalías y relaciones entre las variables. \n",
    "Este enfoque ayuda a los analistas a obtener información clave, formular hipótesis y tomar decisiones fundamentadas sobre el tratamiento de los datos, lo que puede incluir la limpieza de datos, la selección de características y la preparación para modelos predictivos o descriptivos más complejos. \n",
    "\n",
    "En resumen, el EDA es el punto de partida crucial para cualquier análisis de datos, proporcionando una base sólida para investigaciones más profundas y modelos más precisos."
   ]
  },
  {
   "cell_type": "markdown",
   "metadata": {},
   "source": [
    "### Metrica 1: Realizar una descripción de los datos\n"
   ]
  },
  {
   "cell_type": "code",
   "execution_count": null,
   "metadata": {
    "vscode": {
     "languageId": "plaintext"
    }
   },
   "outputs": [],
   "source": []
  },
  {
   "cell_type": "markdown",
   "metadata": {},
   "source": [
    "### Metrica 2: Analisis de Valores Faltantes"
   ]
  },
  {
   "cell_type": "code",
   "execution_count": null,
   "metadata": {
    "vscode": {
     "languageId": "plaintext"
    }
   },
   "outputs": [],
   "source": []
  },
  {
   "cell_type": "markdown",
   "metadata": {},
   "source": [
    "### Metrica 3: Exigencia de las estadisticas perdidas"
   ]
  },
  {
   "cell_type": "code",
   "execution_count": null,
   "metadata": {
    "vscode": {
     "languageId": "plaintext"
    }
   },
   "outputs": [],
   "source": []
  },
  {
   "cell_type": "markdown",
   "metadata": {},
   "source": [
    "### Metrica 4: Correlaciones entre variables"
   ]
  }
 ],
 "metadata": {
  "language_info": {
   "name": "python"
  },
  "orig_nbformat": 4
 },
 "nbformat": 4,
 "nbformat_minor": 2
}
